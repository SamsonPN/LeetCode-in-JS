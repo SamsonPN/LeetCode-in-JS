{
 "cells": [
  {
   "cell_type": "markdown",
   "metadata": {},
   "source": [
    "# Table of Contents:\n",
    "\n",
    " I.  [Arrays](#arrays)\n",
    " \n",
    " II. [Dictionaries and Hashmaps](#dicts)"
   ]
  },
  {
   "cell_type": "markdown",
   "metadata": {},
   "source": [
    "<a class=\"anchor\" id=\"arrays\"></a>\n",
    "\n",
    "## Arrays"
   ]
  },
  {
   "cell_type": "markdown",
   "metadata": {},
   "source": [
    "<a class=\"anchor\" id=\"dicts\"></a>\n",
    "# Dictionaries and Hashmaps"
   ]
  },
  {
   "cell_type": "markdown",
   "metadata": {},
   "source": [
    "## Sherlock and Anagrams (Medium):\n",
    "\n",
    "* https://www.hackerrank.com/challenges/sherlock-and-anagrams/problem?h_l=interview&playlist_slugs%5B%5D=interview-preparation-kit&playlist_slugs%5B%5D=dictionaries-hashmaps"
   ]
  },
  {
   "cell_type": "code",
   "execution_count": 1,
   "metadata": {},
   "outputs": [],
   "source": [
    "// Complete the sherlockAndAnagrams function below.\n",
    "/**\n",
    " * 1. generate all subsets and push them into the subsets array. sorting them first will yield a better time complexity b/c checking them manually would be O(n^2) instead of just having O(nlogn) preprocessing\n",
    " * 2. for every subset, check whether every other subset is equal to it. since it is sorted, this is an O(n) check but there are going to be O(2^n) subsets so this would be an O( (2^n) ^ 2)\n",
    " */\n",
    "function sherlockAndAnagrams(s) {\n",
    "    let subsets = [];\n",
    "    let pairs = 0;\n",
    "    \n",
    "    for(let i = 0; i < s.length; i++) {\n",
    "        for(let j = i + 1; j <= s.length; j++) {\n",
    "            let set = s.slice(i, j).split(\"\").sort().join(\"\");\n",
    "            subsets.push(set);\n",
    "        }\n",
    "    }\n",
    "    \n",
    "    for(let i = 0; i < subsets.length - 1; i++) {\n",
    "        for(let j = i + 1; j < subsets.length; j++) {\n",
    "            if(subsets[i] === subsets[j]) pairs++;\n",
    "        }\n",
    "    }\n",
    "    return pairs;\n",
    "}\n"
   ]
  },
  {
   "cell_type": "markdown",
   "metadata": {},
   "source": [
    "## Count Triplets (Medium)\n",
    "\n",
    "* https://www.hackerrank.com/challenges/count-triplets-1/problem?h_l=interview&playlist_slugs%5B%5D=interview-preparation-kit&playlist_slugs%5B%5D=dictionaries-hashmaps"
   ]
  },
  {
   "cell_type": "code",
   "execution_count": null,
   "metadata": {},
   "outputs": [],
   "source": []
  }
 ],
 "metadata": {
  "kernelspec": {
   "display_name": "Javascript (Node.js)",
   "language": "javascript",
   "name": "javascript"
  },
  "language_info": {
   "file_extension": ".js",
   "mimetype": "application/javascript",
   "name": "javascript",
   "version": "13.12.0"
  }
 },
 "nbformat": 4,
 "nbformat_minor": 2
}
