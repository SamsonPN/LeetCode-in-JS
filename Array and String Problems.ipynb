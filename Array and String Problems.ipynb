{
 "cells": [
  {
   "cell_type": "markdown",
   "metadata": {},
   "source": [
    "## 1295. Find Numbers with Even Number of Digits (easy)\n",
    "* Given an array nums of integers, return how many of them contain an even number of digits.\n",
    "* ex: 1\n",
    "    - Input: nums = [12,345,2,6,7896]\n",
    "    - Output: 2\n",
    "    - Explanation: \n",
    "        - 12 contains 2 digits (even number of digits). \n",
    "        - 345 contains 3 digits (odd number of digits). \n",
    "        - 2 contains 1 digit (odd number of digits). \n",
    "        - 6 contains 1 digit (odd number of digits). \n",
    "        - 7896 contains 4 digits (even number of digits). \n",
    "        - Therefore only 12 and 7896 contain an even number of digits.\n",
    "* constraints:\n",
    "    - 1 <= nums.length <= 500\n",
    "    - 1 <= nums[i] <= 10^5\n",
    "    \n",
    "***\n",
    "Solution:\n",
    "1. for each number in the list, check if it is within a certain range\n",
    "    - 10 --> 99\n",
    "    - 999 --> 9999\n",
    "    - or equal to 100,000\n",
    "2. this is b/c those are the only number ranges that have even number of digits\n",
    "\n",
    "***\n",
    "Tricks:\n",
    "* __ALWAYS, ALWAYS, ALWAYS LOOK AT THE CONSTRAINTS__\n",
    "    - they will give you a clue on how to optimize the solution\n",
    "* normally, you would turn these numbers into a string and see if the length of the numbers is even\n",
    "* but since the constraint goes from 1 --> 100,000, we can check certain number ranges\n",
    "    - and in this case, this yields a much faster run-time than turning it to string"
   ]
  },
  {
   "cell_type": "code",
   "execution_count": 2,
   "metadata": {},
   "outputs": [
    {
     "data": {
      "text/plain": [
       "2"
      ]
     },
     "execution_count": 2,
     "metadata": {},
     "output_type": "execute_result"
    }
   ],
   "source": [
    "/**\n",
    " * @param {number[]} nums\n",
    " * @return {number}\n",
    " */\n",
    "var findNumbers = function(nums) {\n",
    "    let even = 0;\n",
    "    nums.forEach(num => {\n",
    "        if( (9 < num && num < 99) || (999 < num && num < 9999) || num === 100000) {\n",
    "            even++;\n",
    "        }\n",
    "    })\n",
    "    \n",
    "    return even;\n",
    "};\n",
    "\n",
    "findNumbers([12,345,2,6,7896]); // 2"
   ]
  },
  {
   "cell_type": "markdown",
   "metadata": {},
   "source": [
    "## 832. Flipping an Image\n",
    "* Given a binary matrix A, we want to flip the image horizontally, then invert it, and return the resulting image.\n",
    "* To flip an image horizontally means that each row of the image is reversed.  For example, flipping [1, 1, 0] horizontally results in [0, 1, 1].\n",
    "* To invert an image means that each 0 is replaced by 1, and each 1 is replaced by 0. For example, inverting [0, 1, 1] results in [1, 0, 0].\n",
    "* ex 1:\n",
    "    - Input: [[1,1,0],[1,0,1],[0,0,0]]\n",
    "    - Output: [[1,0,0],[0,1,0],[1,1,1]]\n",
    "    - Explanation: First reverse each row: [[0,1,1],[1,0,1],[0,0,0]].\n",
    "    - Then, invert the image: [[1,0,0],[0,1,0],[1,1,1]]\n",
    "* ex 2:\n",
    "    - Input: [[1,1,0,0],[1,0,0,1],[0,1,1,1],[1,0,1,0]]\n",
    "    - Output: [[1,1,0,0],[0,1,1,0],[0,0,0,1],[1,0,1,0]]\n",
    "    - Explanation: First reverse each row: [[0,0,1,1],[1,0,0,1],[1,1,1,0],[0,1,0,1]].\n",
    "    - Then invert the image: [[1,1,0,0],[0,1,1,0],[0,0,0,1],[1,0,1,0]]\n",
    "\n",
    "***\n",
    "Solution:\n",
    "1. for each array in this matrix, we want to first reverse\n",
    "    - Array.prototype.reverse() reverses an array IN PLACE\n",
    "2. then for each element in the reversed array, we would invert it, i.e. if it's a 0, make it a 1\n",
    "    - to optimize this inversion we would use XOR\n",
    "    - 1 ^ 1 = 0\n",
    "    - 1 ^ 0 = 1\n",
    "    - 0 ^ 0 = 0\n",
    "\n",
    "***\n",
    "Tricks:\n",
    "* use XOR to invert an element (if it is 1 or 0) easily"
   ]
  },
  {
   "cell_type": "code",
   "execution_count": 3,
   "metadata": {},
   "outputs": [
    {
     "data": {
      "text/plain": [
       "[ [ 1, 0, 0 ], [ 0, 1, 0 ], [ 1, 1, 1 ] ]"
      ]
     },
     "execution_count": 3,
     "metadata": {},
     "output_type": "execute_result"
    }
   ],
   "source": [
    "var flipAndInvertImage = function(A) {\n",
    "    let rows = A.length;\n",
    "    let cols = A[0].length;\n",
    "    for(let r = 0; r < rows; r++) {\n",
    "        A[r].reverse();\n",
    "        for(let c = 0; c < cols; c++) {\n",
    "            A[r][c] ^= 1;\n",
    "        }\n",
    "    }\n",
    "    return A;\n",
    "};\n",
    "\n",
    "flipAndInvertImage([[1,1,0],[1,0,1],[0,0,0]]);"
   ]
  },
  {
   "cell_type": "markdown",
   "metadata": {},
   "source": [
    "## 136. Single Number\n",
    "* Given a non-empty array of integers, every element appears twice except for one. Find that single one.\n",
    "* Note: Your algorithm should have a linear runtime complexity. Could you implement it without using extra memory?\n",
    "* Example 1:\n",
    "    - Input: [2,2,1]\n",
    "    - Output: 1\n",
    "* Example 2:\n",
    "    - Input: [4,1,2,1,2]\n",
    "    - Output: 4\n",
    "\n",
    "***\n",
    "Solution:\n",
    "1. create an accumulator variable\n",
    "2. continually XOR accumulator with every elem in the array\n",
    "3. return the accumulator\n",
    "\n",
    "***\n",
    "Tricks:\n",
    "* essentially, when dealing with arrays, integers, and memory limitations, you always want to use bit operations\n",
    "* easiest way to find duplicate integers is to use XOR\n",
    "    - 1 ^ 1 = 0\n",
    "    - 1 ^ 0 = 0\n",
    "    - this is b/c the first time something is XOR'd, it gets set\n",
    "    - then the second time, those things are cleared\n",
    "    - thus if you have an accumulator of 0,\n",
    "        1. 0 ^ num = num\n",
    "        2. num ^ num = 0\n",
    "    - so if there are duplicates, they will clear themselves"
   ]
  },
  {
   "cell_type": "code",
   "execution_count": null,
   "metadata": {},
   "outputs": [],
   "source": [
    "/**\n",
    " * @param {number[]} nums\n",
    " * @return {number}\n",
    " */\n",
    "var singleNumber = function(nums) {\n",
    "    let single = 0;\n",
    "    nums.forEach(num => single ^= num)\n",
    "    return single;\n",
    "};\n",
    "\n",
    "// with reducer\n",
    "// acc = accumulator variable. it acts like single in previous function\n",
    "// value = current value being lookd at\n",
    "var singleNumber = function(nums) {\n",
    "    return nums.reduce((acc, value) => acc ^ value);\n",
    "}"
   ]
  },
  {
   "cell_type": "markdown",
   "metadata": {},
   "source": [
    "## 977. Squares of a Sorted Array (easy)\n",
    "* Given an array of integers A sorted in non-decreasing order, return an array of the squares of each number, also in sorted non-decreasing order.\n",
    "* Example 1:\n",
    "    - Input: [-4,-1,0,3,10]\n",
    "    - Output: [0,1,9,16,100]\n",
    "* Example 2:\n",
    "    - Input: [-7,-3,2,3,11]\n",
    "    - Output: [4,9,9,49,121]\n",
    "\n",
    "***\n",
    "Solution:\n",
    "1. create 3 pointers: left, right, and len\n",
    "    - left = 0\n",
    "    - right = arr.length - 1\n",
    "    - len = arr.length - 1\n",
    "2. then create a new array\n",
    "3. while len >= 0\n",
    "    - if A[left] ** 2 > A[right] ** 2,\n",
    "        - push it to newArr[i]\n",
    "        - and left++\n",
    "    - else, \n",
    "        - push A[right] to newArr[i]\n",
    "        - right--\n",
    "    - then len--;\n",
    "4. return newArr\n",
    "\n",
    "***\n",
    "Tricks:\n",
    "* this is an example of the __Two Pointer technique__\n",
    "* you always wanted to use this for sorted arrays\n",
    "    - you have a left pointer at 0\n",
    "    - and a right pointer at arr.len - 1\n",
    "    - and you compare the two\n",
    "    - if left meets condition, left++\n",
    "    - else if right meets condition, right--\n",
    "* it's kind of like a merge in merge sort except the pointers are on both sides of one array"
   ]
  },
  {
   "cell_type": "code",
   "execution_count": 2,
   "metadata": {},
   "outputs": [
    {
     "data": {
      "text/plain": [
       "[ 0, 1, 9, 16, 100 ]"
      ]
     },
     "execution_count": 2,
     "metadata": {},
     "output_type": "execute_result"
    }
   ],
   "source": [
    "var sortedSquares = function(A) {\n",
    "    let newArr = [];\n",
    "    let left = 0;\n",
    "    let right = A.length - 1;\n",
    "    let len = right;\n",
    "    \n",
    "    while(len >= 0){\n",
    "        if(A[left] ** 2 > A[right] ** 2) {\n",
    "            newArr[len] = A[left] ** 2;\n",
    "            left++;\n",
    "        }\n",
    "        else {\n",
    "            newArr[len] = A[right] ** 2;\n",
    "            right--;\n",
    "        }\n",
    "        len--;\n",
    "    }\n",
    "    return newArr;\n",
    "};\n",
    "\n",
    "sortedSquares([-4,-1,0,3,10]);"
   ]
  },
  {
   "cell_type": "markdown",
   "metadata": {},
   "source": [
    "## 283. Move Zeroes (easy)\n",
    "* Given an array nums, write a function to move all 0's to the end of it while maintaining the relative order of the non-zero elements.\n",
    "* Example:\n",
    "    - Input: [0,1,0,3,12]\n",
    "    - Output: [1,3,12,0,0]\n",
    "* Note: You must do this in-place without making a copy of the array.\n",
    "Minimize the total number of operations.\n",
    "* Explanation: https://leetcode.com/problems/move-zeroes/discuss/172432/THE-EASIEST-but-UNUSUAL-snowball-JAVA-solution-BEATS-100-(O(n))-%2B-clear-explanation"
   ]
  },
  {
   "cell_type": "code",
   "execution_count": 1,
   "metadata": {},
   "outputs": [],
   "source": [
    "/**\n",
    " * @param {number[]} nums\n",
    " * @return {void} Do not return anything, modify nums in-place instead.\n",
    " */\n",
    "\n",
    "// O(n) solution\n",
    "/*\n",
    "* essentially, as you progress through the array, you swap non-zero values with the\n",
    "* first zero in the zero subarray.\n",
    "* ex: [0,0,0,3]\n",
    "    - the first zero is at the 0th index\n",
    "    - you swap 3 with arr[0]\n",
    "    - so now you get: [3,0,0,0]\n",
    "* so you only need to keep track of the size of that subarray and swap nums[i] with nums[i - 1];\n",
    "*/\n",
    "\n",
    "var moveZeroes = function(nums) {\n",
    "    let zeroes = 0;\n",
    "    for (let i = 0; i < nums.length; i++) {\n",
    "        if (nums[i] === 0) {\n",
    "            zeroes++;\n",
    "        }\n",
    "        else {\n",
    "            [nums[i], nums[i - zeroes]] = [nums[i - zeroes], nums[i]];\n",
    "        }\n",
    "    }\n",
    "};"
   ]
  },
  {
   "cell_type": "markdown",
   "metadata": {},
   "source": [
    "## 1475. Final Prices With a Special Discount in a Shop (easy)\n",
    "* Given the array prices where prices[i] is the price of the ith item in a shop. There is a special discount for items in the shop, if you buy the ith item, then you will receive a discount equivalent to prices[j] where j is the minimum index such that j > i and prices[j] <= prices[i], otherwise, you will not receive any discount at all.\n",
    "\n",
    "* Return an array where the ith element is the final price you will pay for the ith item of the shop considering the special discount.\n",
    "\n",
    "* Example 1:\n",
    " - Input: prices = [8,4,6,2,3]\n",
    " - Output: [4,2,4,2,3]\n",
    " - Explanation: \n",
    "    - For item 0 with price[0]=8 you will receive a discount equivalent to prices[1]=4, therefore, the final price you will pay is 8 - 4 = 4. \n",
    "    - For item 1 with price[1]=4 you will receive a discount equivalent to prices[3]=2, therefore, the final price you will pay is 4 - 2 = 2. \n",
    "    - For item 2 with price[2]=6 you will receive a discount equivalent to prices[3]=2, therefore, the final price you will pay is 6 - 2 = 4. \n",
    "    - For items 3 and 4 you will not receive any discount at all.\n",
    "\n",
    "* Example 2:\n",
    " - Input: prices = [1,2,3,4,5]\n",
    " - Output: [1,2,3,4,5]\n",
    " - Explanation: In this case, for all items, you will not receive any discount at all.\n",
    "\n",
    "* Example 3:\n",
    " - Input: prices = [10,1,1,6]\n",
    " - Output: [9,0,1,6]\n",
    " \n",
    "* Constraints:\n",
    " - 1 <= prices.length <= 500\n",
    " - 1 <= prices[i] <= 10^3"
   ]
  },
  {
   "cell_type": "code",
   "execution_count": 2,
   "metadata": {},
   "outputs": [],
   "source": [
    "/**\n",
    " * @param {number[]} prices\n",
    " * @return {number[]}\n",
    " */\n",
    "\n",
    "/*\n",
    "* O(n) time and O(n) space for the stack usage\n",
    "* basically, you push indices of items that aren't discounted yet into a stack\n",
    "* as you encounter items that fit the discount condition, meaning that their prices are <= ones in the stack, then you update the prices[stack_index]\n",
    "* for example: [8, 4, 6]:\n",
    "    - first pass: stack = [],  price = 8. nothing in stack, so just add index to stack\n",
    "    - second pass: stack = [0], price = 4. we see that prices[stack.peek()] >= price, so we pop that index and we update it in the array. so prices[1] -= 4 ==> 4. and we add its index to stack\n",
    "    - third pass: stack = [1], price = 6. we see that prices[stack.peek()] < price, so we just add index to stack.\n",
    "    - i === prices.length so we end the looping. stack = [1, 2].\n",
    "*/\n",
    "\n",
    "var finalPrices = function(prices) {\n",
    "    let stack = [];\n",
    "    \n",
    "    for (let i = 0; i < prices.length; i++) {\n",
    "        while (stack.length && prices[stack[stack.length - 1]] >= prices[i]) {\n",
    "            prices[stack.pop()] -= prices[i];\n",
    "        }\n",
    "        stack.push(i);\n",
    "    }\n",
    "    \n",
    "    return prices;\n",
    "};"
   ]
  },
  {
   "cell_type": "code",
   "execution_count": null,
   "metadata": {},
   "outputs": [],
   "source": []
  }
 ],
 "metadata": {
  "kernelspec": {
   "display_name": "Javascript (Node.js)",
   "language": "javascript",
   "name": "javascript"
  },
  "language_info": {
   "file_extension": ".js",
   "mimetype": "application/javascript",
   "name": "javascript",
   "version": "13.12.0"
  }
 },
 "nbformat": 4,
 "nbformat_minor": 2
}
