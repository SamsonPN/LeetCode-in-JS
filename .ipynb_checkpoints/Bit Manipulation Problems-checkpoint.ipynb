{
 "cells": [
  {
   "cell_type": "markdown",
   "metadata": {},
   "source": [
    "## 4.61 Hamming Distance (easy)\n",
    "* The Hamming distance between two integers is the number of positions at which the corresponding bits are different.\n",
    "* Given two integers x and y, calculate the Hamming distance.\n",
    "* ex:\n",
    "    - Input: x = 1, y = 4\n",
    "    - Output: 2\n",
    "    - 1 (0 0 0 1)\n",
    "    - 4 (0 1 0 0)\n",
    "\n",
    "***\n",
    "Solution 1:\n",
    "1. isolate the 0th bit from both numbers\n",
    "    - we do this by making a mask = 1 << i\n",
    "    - but since i = 0, 1 << 0 = 1\n",
    "2. we then compare the 2 values\n",
    "    - if they are not equal, we increment our counter;\n",
    "3. then we rightshift both numbers\n",
    "    - what this does is shift all the numbers to the right so we can match them up\n",
    "    - and eventually, both numbers will become 0 to end the while loop\n",
    "\n",
    "***\n",
    "Solution 2: (this is EXACTLY the same as counting the number of 1-bits in a number, except we can condense x and y into one value and count the number of 1-bits in it!)\n",
    "1. first, we do x ^ y\n",
    "    - 1 ^ 1 = 0\n",
    "    - 1 ^ 0 = 1\n",
    "    - 0 ^ 0 = 0\n",
    "    - what this does is isolate the bits that are different while clearing out the ones that are the same\n",
    "    - so if x ^ y = 0, then we know that there are no differences in bit values for every respective bit position\n",
    "2. then we use this trick: value &= (value - 1)\n",
    "    - (value - 1) basically flips every bit from the rightmost 1-bit to 0 in value\n",
    "    - value & (value - 1) will then clear the rightmost 1-bit\n",
    "    - so as long as there are 1-bits in value, meaning that there are still differences in bits, then we can increment the counter\n",
    "3. once value becomes 0, we know that there are no more bit differences between x and y and we can return"
   ]
  },
  {
   "cell_type": "code",
   "execution_count": 5,
   "metadata": {},
   "outputs": [
    {
     "name": "stdout",
     "output_type": "stream",
     "text": [
      "2\n",
      "2\n"
     ]
    }
   ],
   "source": [
    "// solution 1\n",
    "var hammingDistance = function(x, y) {\n",
    "    let d = 0;\n",
    "    \n",
    "    while(x !== 0 || y !== 0) {\n",
    "        if( (x & 1) !== (y & 1)) {\n",
    "            d++;\n",
    "        }\n",
    "        x >>= 1;\n",
    "        y >>= 1;\n",
    "    }\n",
    "    return d;\n",
    "};\n",
    "\n",
    "console.log(hammingDistance(1, 4))\n",
    "\n",
    "var hammingDistance2 = function(x, y) {\n",
    "    let d = 0;\n",
    "    let value = x ^ y;\n",
    "    \n",
    "    while(value !== 0) {\n",
    "        value &= (value - 1);\n",
    "        d++;\n",
    "    }\n",
    "    \n",
    "    return d;\n",
    "}\n",
    "\n",
    "console.log(hammingDistance2(1, 4));"
   ]
  },
  {
   "cell_type": "markdown",
   "metadata": {},
   "source": [
    "## 1356. Sort Integers by The Number of 1 Bits\n",
    "\n",
    "* https://leetcode.com/problems/sort-integers-by-the-number-of-1-bits/"
   ]
  },
  {
   "cell_type": "code",
   "execution_count": 1,
   "metadata": {},
   "outputs": [],
   "source": [
    "/**\n",
    " * @param {number[]} arr\n",
    " * @return {number[]}\n",
    " */\n",
    "var sortByBits = function(arr) {\n",
    "    // sort arr first\n",
    "    arr.sort((a,b) => a - b);\n",
    "    \n",
    "    // have buckets for # of 1-bits in num\n",
    "    let buckets = [];\n",
    "    // place each num into buckets\n",
    "    for (let i = 0; i < arr.length; i++) {\n",
    "        let ones = 0;\n",
    "        let num = arr[i];\n",
    "        while (num) {\n",
    "            if (num & 1) ones++;\n",
    "            num >>= 1;\n",
    "        }\n",
    "        \n",
    "        if (buckets[ones] === undefined) buckets[ones] = [];\n",
    "        buckets[ones].push(arr[i]);\n",
    "    }\n",
    "    \n",
    "    // flatten bucket (already pre-sorted so don't need to worry)\n",
    "    return buckets.flat();\n",
    "};"
   ]
  },
  {
   "cell_type": "code",
   "execution_count": null,
   "metadata": {},
   "outputs": [],
   "source": []
  }
 ],
 "metadata": {
  "kernelspec": {
   "display_name": "Javascript (Node.js)",
   "language": "javascript",
   "name": "javascript"
  },
  "language_info": {
   "file_extension": ".js",
   "mimetype": "application/javascript",
   "name": "javascript",
   "version": "13.12.0"
  }
 },
 "nbformat": 4,
 "nbformat_minor": 2
}
