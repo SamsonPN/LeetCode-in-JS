{
 "cells": [
  {
   "cell_type": "markdown",
   "metadata": {},
   "source": [
    "# Easy Problems"
   ]
  },
  {
   "cell_type": "markdown",
   "metadata": {},
   "source": [
    "### 1. Two Sum (array) - nov 6.\n",
    "* initially, i wanted to preprocess the array first and then look for a match but i can both preprocess and do it in one loop\n",
    "    - look for the item in the hash table first, then retrieve it and return the answer\n",
    "    - hash table used to keep track of nums seen and for its index"
   ]
  },
  {
   "cell_type": "code",
   "execution_count": null,
   "metadata": {},
   "outputs": [],
   "source": [
    "var twoSum = function(nums, target) {\n",
    "    let hash = {};\n",
    "    let answer;\n",
    "    for(let i = 0; i < nums.length; i++) {\n",
    "        let secondValue = target = nums[i];\n",
    "        if(hash[secondValue] !== undefined) {\n",
    "            answer = [i, hash[secondValue]];\n",
    "            break;\n",
    "        }\n",
    "        hash[nums[i]] = i;\n",
    "    }\n",
    "    \n",
    "    return answer;\n",
    "}"
   ]
  },
  {
   "cell_type": "markdown",
   "metadata": {},
   "source": [
    "### 2. Valid Parentheses (stacks) - nov 6."
   ]
  },
  {
   "cell_type": "code",
   "execution_count": null,
   "metadata": {},
   "outputs": [],
   "source": []
  },
  {
   "cell_type": "markdown",
   "metadata": {},
   "source": [
    "### 3. Merge Two Sorted Lists (linked lists) - nov 6.\n",
    "* if you're working with linked lists and asked to create a new list: try to do a recursive list reconstruction:"
   ]
  },
  {
   "cell_type": "code",
   "execution_count": null,
   "metadata": {},
   "outputs": [],
   "source": [
    "function foo(l1, l2) {\n",
    "    if(l1 == null || l2 == null) {\n",
    "        // base case\n",
    "        // do some stuff hre\n",
    "    }\n",
    "    else {\n",
    "        node.next = foo(node.next);\n",
    "    }\n",
    "}"
   ]
  },
  {
   "cell_type": "code",
   "execution_count": null,
   "metadata": {},
   "outputs": [],
   "source": [
    "var mergeTwoLists = function(l1, l2) {\n",
    "    if(l1 === null) {\n",
    "        return l2;\n",
    "    }\n",
    "    else if (l2 === null) {\n",
    "        return l1;\n",
    "    }\n",
    "    else if (l1.val <= l2.val) {\n",
    "        li.next = mergeTwoLists(l1.next, l2);\n",
    "    }\n",
    "    else {\n",
    "        l2.next = mergeTwoLists(l1, l2.next);\n",
    "    }\n",
    "}"
   ]
  },
  {
   "cell_type": "markdown",
   "metadata": {},
   "source": [
    "### 4. Maximum Subarray (array) - nov 6.\n",
    "* Kadane's Algorithm!!!\n",
    "* we basically have 2 variables:\n",
    "    1. max = the max that we are going to return\n",
    "    2. running_max = the max that we tally up as we go along.\n",
    "        - running max will either be a sub-array of previous values or\n",
    "        - it'll be a value at index i, i.e. A[i]\n",
    "* as you go along, you add the next value to the running_max and compare it with A[i]\n",
    "* then you compare that running_max with max\n",
    "4. then you return the max"
   ]
  },
  {
   "cell_type": "code",
   "execution_count": null,
   "metadata": {},
   "outputs": [],
   "source": [
    "var maxSubArray = function(nums) {\n",
    "    let max = Number.NEGATIVE_INFINITY;\n",
    "    let running_max = Number.NEGATIVE_INFINITY;\n",
    "    \n",
    "    for(let i = 0; i < nums.length; i++) {\n",
    "        running_max = Math.max(running_max + nums[i], nums[i]);\n",
    "        max = Math.max(max, running_max);\n",
    "    }\n",
    "    \n",
    "    return max;\n",
    "}"
   ]
  },
  {
   "cell_type": "markdown",
   "metadata": {},
   "source": [
    "### 5. Climbing Stairs (dynamic programming) - nov 6.\n",
    "* similar to fibonacci"
   ]
  },
  {
   "cell_type": "code",
   "execution_count": null,
   "metadata": {},
   "outputs": [],
   "source": [
    "var climbStairs = function(n) {\n",
    "    if (n === 0 || n === 1) return n;\n",
    "    \n",
    "    let x = 1;\n",
    "    let y = 2;\n",
    "    \n",
    "    for(let i = 2; i < n; i++) {\n",
    "        let temp = y;\n",
    "        y += x;\n",
    "        x = temp;\n",
    "    }\n",
    "    \n",
    "    return y;\n",
    "}"
   ]
  },
  {
   "cell_type": "markdown",
   "metadata": {},
   "source": [
    "### 6. Same Tree (graphs) - nov 6.\n",
    "* pre-order traversal"
   ]
  },
  {
   "cell_type": "code",
   "execution_count": null,
   "metadata": {},
   "outputs": [],
   "source": [
    "var isSameTree = function(p, q) {\n",
    "    if(p === null && q === null) {\n",
    "        return true;\n",
    "    }\n",
    "    else if (p === null || q === null) {\n",
    "        return false;\n",
    "    }\n",
    "    else if (p.val !== q.val) {\n",
    "        return false;\n",
    "    }\n",
    "    else {\n",
    "        return isSameTree(p.left, q.left) && isSameTree(p.right, q.right);\n",
    "    }\n",
    "}"
   ]
  },
  {
   "cell_type": "markdown",
   "metadata": {},
   "source": [
    "### 7. Maximum Depth of Binary Tree (tree traversal) - nov 7.\n",
    "* also another simple pre-order traversal"
   ]
  },
  {
   "cell_type": "code",
   "execution_count": null,
   "metadata": {},
   "outputs": [],
   "source": [
    "var maxDepth = function(root) {\n",
    "    if(root === null) {\n",
    "        return 0;\n",
    "    }\n",
    "    else {\n",
    "        return Math.max(maxDepth(root.left) + 1, maxDepth(root.right) + 1);\n",
    "    }\n",
    "}"
   ]
  },
  {
   "cell_type": "markdown",
   "metadata": {},
   "source": [
    "### 8. Best Time to Buy and Sell Stock (dynamic programming) - nov 7.\n",
    "* Kadane's Algorithm"
   ]
  },
  {
   "cell_type": "code",
   "execution_count": null,
   "metadata": {},
   "outputs": [],
   "source": [
    "var maxProfit = function(prices) {\n",
    "    let pLen = prices.length;\n",
    "    \n",
    "    // can't buy/sell stocks on the same day\n",
    "    if(pLen === 0 || pLen === 1) {\n",
    "        return 0;\n",
    "    }\n",
    "    \n",
    "    if(pLen === 2) {\n",
    "        let profit = prices[1] - prices[0];\n",
    "        return profit > 0 ? profit : 0;\n",
    "    }\n",
    "    \n",
    "    let max = 0;\n",
    "    let buy = prices[0];\n",
    "    \n",
    "    for(let i = 1; i < pLen; i++) {\n",
    "        let profit = prices[i] - buy;\n",
    "        // if we lose money, then change the new\n",
    "        // buying date to be the current one\n",
    "        if(profit < 0) {\n",
    "            buy = prices[i];\n",
    "        }\n",
    "        else {\n",
    "            max = Math.max(max, profit);\n",
    "        }\n",
    "    }\n",
    "    \n",
    "    return max;\n",
    "}"
   ]
  },
  {
   "cell_type": "markdown",
   "metadata": {},
   "source": [
    "### 9. Valid Palindrome (array) - nov. 7\n",
    "* use of two pointer system\n",
    "* one at the beginning, and one at the end\n",
    "* we advance either one towards the middle until they cross"
   ]
  },
  {
   "cell_type": "code",
   "execution_count": 2,
   "metadata": {},
   "outputs": [],
   "source": [
    "var isPalindrome = function(input) {\n",
    "    var start = 0;\n",
    "    var end = input.length - 1;\n",
    "    \n",
    "    while(start < end) {\n",
    "        var s = input.charCodeAt(start);\n",
    "        var e = input.charCodeAt(end);\n",
    "        \n",
    "        if(!isLetter(s)) {\n",
    "            start++;\n",
    "            continue;\n",
    "        }\n",
    "        if(!isLetter(e)) {\n",
    "            end--;\n",
    "            continue;\n",
    "        }\n",
    "        \n",
    "        if(toLowerCase(s) !== toLowerCase(e)) {\n",
    "            return false;\n",
    "        }\n",
    "        \n",
    "        start++;\n",
    "        end--;\n",
    "    }\n",
    "    \n",
    "    return true;\n",
    "}\n",
    "\n",
    "var isLetter = function(code) {\n",
    "    if (((code >= 48) && (code <= 57))  // numbers\n",
    "    || ((code >= 65) && (code <= 90))  // uppercase\n",
    "    || ((code >= 97) && (code <= 122))) {  // lowercase\n",
    "        return true\n",
    "    }\n",
    "    else {\n",
    "        return false\n",
    "    }\n",
    "}\n",
    "\n",
    "var toLowerCase = function(code) {\n",
    "    if (code >= 65 && code <= 90) {\n",
    "        return code + 32    \n",
    "    }\n",
    "    else {\n",
    "        return code\n",
    "    }\n",
    "}"
   ]
  },
  {
   "cell_type": "markdown",
   "metadata": {},
   "source": [
    "### 10. Linked List Cycle (linked lists) - nov. 7\n",
    "* use of slow/fast pointers running at same time"
   ]
  },
  {
   "cell_type": "code",
   "execution_count": null,
   "metadata": {},
   "outputs": [],
   "source": [
    "var hasCycle = function(head) {\n",
    "    let slow = head;\n",
    "    let fast = head;\n",
    "    \n",
    "    while(fast !== null && fast.next !== null) {\n",
    "        slow = slow.next;\n",
    "        fast = fast.next.next;\n",
    "        if(slow === fast) {\n",
    "            return true;\n",
    "        }\n",
    "    }\n",
    "    \n",
    "    return false;\n",
    "}"
   ]
  },
  {
   "cell_type": "markdown",
   "metadata": {},
   "source": [
    "### 11. Reverse Bits (bit manipulation) - nov. 7"
   ]
  },
  {
   "cell_type": "code",
   "execution_count": null,
   "metadata": {},
   "outputs": [],
   "source": [
    "var reverseBits = function(n) {\n",
    "    var result = 0;\n",
    "    var count = 32;\n",
    "    while(count > 0) {\n",
    "        // multiply result by 2 to move all the \n",
    "        // 1s up by 2 \n",
    "        // similar to how a << works but for some reason\n",
    "        // it's weird with javascript\n",
    "        result *= 2;\n",
    "        // we see if there is a 1-bit\n",
    "        // at the 0th position\n",
    "        result += n & 1;\n",
    "        // we then right-shift the original number\n",
    "        // this is b/c we process through the entire\n",
    "        // bit sequence as we shift it down\n",
    "        // and just look at the 0th position\n",
    "        // ex: 1011 --> 0101 --> 0010 --> 0001 --> 0000\n",
    "        // so we add a 1 to result if there is one\n",
    "        n = n >> 1;\n",
    "        count--;\n",
    "    }\n",
    "    \n",
    "    return result;\n",
    "}"
   ]
  },
  {
   "cell_type": "markdown",
   "metadata": {},
   "source": [
    "### 12. Number of 1 Bits - nov 8.\n",
    "* n &= n - 1\n",
    "* this is b/c (n - 1) is essentially n but the 0th --> rightmost 1-bit will be flipped. so when we do n &= n - 1, we essentially clear the rightmost bit in n\n",
    "* if we continue doing this, n === 0 and the number of 1 bits will be revealed"
   ]
  },
  {
   "cell_type": "code",
   "execution_count": null,
   "metadata": {},
   "outputs": [],
   "source": [
    "var hammingWeight = function(n) {\n",
    "    let count = 0;\n",
    "    while(n) {\n",
    "        n &= n - 1;\n",
    "        count++;\n",
    "    }\n",
    "    \n",
    "    return count;\n",
    "}"
   ]
  },
  {
   "cell_type": "markdown",
   "metadata": {},
   "source": [
    "### 13. House Robber - nov 8.\n",
    "1. Find recursive relation:\n",
    "    * in this problem, a robber has 2 options:\n",
    "        1. rob current house i\n",
    "        2. don't rob current house\n",
    "    * if option a) is chosen, then the robber gets the loot from current house and from the i-2 house\n",
    "    * if option b) is chosen, ten the robber will get the loot from the i - 1 house only\n",
    "    * thus, it is only a matter of maximizing which one to steal:\n",
    "    * __recursive relation__: rob(i) = Math.max( rob(i - 2) + currentHouseValue, rob(i - 1) );"
   ]
  },
  {
   "cell_type": "code",
   "execution_count": 1,
   "metadata": {},
   "outputs": [],
   "source": [
    "/*\n",
    "2. recursive (top-down)\n",
    "* now just convert recursive relation to an actual function\n",
    "* this will solve the problem but there is an optimization that can\n",
    "    can be done b/c it will process the same i over and over again\n",
    "*/\n",
    "\n",
    "function rob(nums) {\n",
    "    return _rob(nums, nums.length - 1);\n",
    "}\n",
    "\n",
    "function _rob(nums, i) {\n",
    "    if(i < 0) {\n",
    "        return 0;\n",
    "    }\n",
    "    // pretty much identical to the recursive relation\n",
    "    return Math.max(rob(nums, i - 2) + nums[i], rob(nums, i - 1));\n",
    "}"
   ]
  },
  {
   "cell_type": "code",
   "execution_count": 2,
   "metadata": {},
   "outputs": [],
   "source": [
    "/*\n",
    "3. recursive + memo (top-down)\n",
    "    * using an array, this will make sure that the ith value\n",
    "    won't be recalculated again\n",
    "* O(n) time, and O(n) space\n",
    "*/\n",
    "\n",
    "function rob(nums) {\n",
    "    let memo = [];\n",
    "    return _rob(nums, nums.length - 1, memo);\n",
    "}\n",
    "\n",
    "function _rob(nums, i, memo) {\n",
    "    if(i < 0) {\n",
    "        return 0;\n",
    "    }\n",
    "    if(memo[i] >= 0) {\n",
    "        return memo[i];\n",
    "    }\n",
    "    let result = Math.max(rob(nums, i - 2) + nums[i], rob(nums, i - 1));\n",
    "    memo[i] = result;\n",
    "    return result;\n",
    "}"
   ]
  },
  {
   "cell_type": "code",
   "execution_count": null,
   "metadata": {},
   "outputs": [],
   "source": [
    "/*\n",
    "4. iterative + memo (bottom-up)\n",
    "* we can get rid of the O(n) space by \n",
    "*/\n",
    "\n",
    "function rob(nums) {\n",
    "    if(nums.length === 0) return 0;\n",
    "    let memo = [];\n",
    "    memo[0] = 0;\n",
    "    memo[1] = nums[0];\n",
    "    for(let i = 0; i < nums.length; i++) {\n",
    "        let val = nums[i];\n",
    "        memo[i + 1] = Math.max(memo[i], memo[i - 1] + val);\n",
    "    }\n",
    "    return memo[nums.length];\n",
    "}"
   ]
  },
  {
   "cell_type": "code",
   "execution_count": null,
   "metadata": {},
   "outputs": [],
   "source": [
    "/*\n",
    "5. iterative + 2 variables (bottom-up)\n",
    "* in the previous step, only 2 variables were used: memo[i] and memo[i - 1]\n",
    "* we can just use 2 variables instead\n",
    "* this is pretty similar to how fibonacci is optimized!\n",
    "*/\n",
    "\n",
    "function rob(nums) {\n",
    "    if(nums.length === 0) return 0;\n",
    "    let prev1 = 0;\n",
    "    let prev2 = 0;\n",
    "    for(let i = 0; i < nums.length; i++){\n",
    "        let temp = prev1;\n",
    "        prev1 = Math.max(prev2 + nums[i], prev1);\n",
    "        prev2 = temp;\n",
    "    }\n",
    "    \n",
    "    return prev1;\n",
    "}"
   ]
  },
  {
   "cell_type": "markdown",
   "metadata": {},
   "source": [
    "### 14. Reverse Linked List - nov. 8"
   ]
  },
  {
   "cell_type": "markdown",
   "metadata": {},
   "source": [
    "### 15. Contains Duplicate - nov 8."
   ]
  },
  {
   "cell_type": "markdown",
   "metadata": {},
   "source": [
    "### 16. Invert Binary Tree - nov 8."
   ]
  },
  {
   "cell_type": "markdown",
   "metadata": {},
   "source": [
    "### 17. Lowest Common Ancestor of a Binary Search Tree - nov 9."
   ]
  },
  {
   "cell_type": "markdown",
   "metadata": {},
   "source": [
    "### 18. Valid Anagram - nov 9.\n",
    "* not a bit manipulation thing!"
   ]
  },
  {
   "cell_type": "markdown",
   "metadata": {},
   "source": [
    "### 19. Missing Number - nov 9."
   ]
  },
  {
   "cell_type": "markdown",
   "metadata": {},
   "source": [
    "### 20. Subtree of Another Tree - nov 9."
   ]
  },
  {
   "cell_type": "markdown",
   "metadata": {},
   "source": [
    "# Medium Problems"
   ]
  },
  {
   "cell_type": "markdown",
   "metadata": {},
   "source": [
    "### 1. Longest Substring Without Repeating Characters (dynamic programming) - nov 7.\n",
    "* similar application with Kadane's algorithm but with some tweaks for positioning"
   ]
  },
  {
   "cell_type": "code",
   "execution_count": null,
   "metadata": {},
   "outputs": [],
   "source": [
    "var lengthOfLongestSubstring = function(s) {\n",
    "    if(s.length === 0 || s.length === 1) {\n",
    "        return s.length;\n",
    "    }\n",
    "    \n",
    "    // hash map to keep letter and its position\n",
    "    let hash = new Map();\n",
    "    // current max;\n",
    "    let max = 0;\n",
    "    // start of the substring\n",
    "    let start = 0;\n",
    "    \n",
    "    for(let i = 0; i < s.length; i++) {\n",
    "        let letter = s[i];\n",
    "        // if we have seen the letter already\n",
    "        // try to see where the pos of the letter was and get pos after it\n",
    "        // and then we see if the start index or the letter pos + 1 is greater and we take\n",
    "        // the bigger one\n",
    "        // this is b/c the smaller value would also have a dup in it so we take the greater value\n",
    "        \n",
    "        // in essence, start refers to THE INDEX OF THE START OF THE LONGEST SUBSTRING\n",
    "        // SO FAR!!!!\n",
    "        // and we want to see if start or hash.get(letter) + 1 is farther\n",
    "        // along the string!!\n",
    "        if(hash.has(letter)) {\n",
    "            start = Math.max(start, hash.get(letter) + 1);\n",
    "        }\n",
    "        // add the letter and its value t the hash table\n",
    "        hash.set(letter, i);\n",
    "        // then we compare the max with the current substring max\n",
    "        // i = current pos, start = the start of the substring, and we add 1 every loop\n",
    "        max = Math.max(max, i - start + 1);\n",
    "    }\n",
    "}"
   ]
  },
  {
   "cell_type": "markdown",
   "metadata": {},
   "source": [
    "### 2. Longest Palindromic Substring - nov. 7\n",
    "* use of a dp table (bottom-up method) to create our algorithm!"
   ]
  },
  {
   "cell_type": "code",
   "execution_count": null,
   "metadata": {},
   "outputs": [],
   "source": [
    "/**\n",
    " * @param {string} s\n",
    " * @return {string}\n",
    " */\n",
    "\n",
    "/*\n",
    "* for this type of dp problem that has to check whether something is optimal and another condition,\n",
    "    it will probably take O(n^2) time to do\n",
    "* in that case, we can actually use a dp table in order to do a sort of bottom-up method of calculating\n",
    "    for the optimal answer\n",
    "\n",
    "* so for this problem, we know a couple of things:\n",
    "    1. a letter by itself is a palindrome. so 'a' is a palindrome\n",
    "        - we can use this to fill in a section of the table where table[i][j] = true for i = j;\n",
    "        - so say 'a' is at index 0, then table[0][0] = true;\n",
    "    2. we also know that for a substring[i:j], it needs to meet these conditions to be palindromic:\n",
    "        - first, substring[i] === substring[j]\n",
    "        - second, substring[i + 1] --> substring[j - 1] ALSO need to be a palindrome.\n",
    "            * for example: 'abcba'.\n",
    "            * we know that substring[0] = 'a' = substring[4]\n",
    "            * so substring[1:3] ALSO need to be a palindrome. which it is b/c 'bcb' IS a palindrome\n",
    "    3. we can use these facts to build our solution up!\n",
    "*/\n",
    "var longestPalindrome = function(s) {\n",
    "    \n",
    "    // if s.length < 2, then that means\n",
    "    if(s.length < 2) {\n",
    "        return s;\n",
    "    }\n",
    "    \n",
    "    let table = Array.from({ length: s.length }, () => []);\n",
    "    // initialize the table\n",
    "    table[0][0] = true;\n",
    "    // initial palindrome is first letter\n",
    "    let max = s[0];\n",
    "    \n",
    "    for(let i = s.length - 1; i >= 0; i--) {\n",
    "        for(let j = i; j < s.length; j++) {\n",
    "            // it is a palindrome if first and last letters match up AND\n",
    "            // it is either 3 letters long or less\n",
    "            // or the substring between the first and last is also a palindrome\n",
    "            table[i][j] = s[i] === s[j] && (j - i < 3 || table[i + 1][j - 1]);\n",
    "            \n",
    "            // if the current substring is palindromic\n",
    "            // and its length is > max.length\n",
    "            // then max = substring[i, j];\n",
    "            if(table[i][j] && j - i + 1 > max.length) {\n",
    "                max = s.slice(i, j + 1);\n",
    "            }\n",
    "        }\n",
    "    }\n",
    "    \n",
    "    return max;\n",
    "};"
   ]
  },
  {
   "cell_type": "markdown",
   "metadata": {},
   "source": [
    "### 3. Container With Most Water (dynamic programming, Kadane's Algorithm, two pointers)\n",
    "* another application of Kadane's algorithm and a bit of intuition from using quickSort partition portion\n",
    "* essentially, what this question is asking is that you want:\n",
    "    1. Max(index1 - index2)\n",
    "    2. and min(height[index1], height[index2])\n",
    "* since we want to maximize the distance between the indices to ensure a high enough area, then we should have 2 pointers\n",
    "    - 1 pointer at the beginning (left)\n",
    "    - and another at the end (right)\n",
    "* if the value[right] < value[left] then we move right--\n",
    "    - otherwise, we can advance left++ normally\n",
    "* we continue advancing the pointers and figuring out the current_max and max until they cross or land on the same index"
   ]
  },
  {
   "cell_type": "code",
   "execution_count": 3,
   "metadata": {},
   "outputs": [],
   "source": [
    "var maxArea = function(height) {\n",
    "    if(height.length === 2) {\n",
    "        return Math.min(height[0], height[1]);\n",
    "    }\n",
    "    \n",
    "    let left = 0;\n",
    "    let right = height.length - 1;\n",
    "    \n",
    "    let max = 0;\n",
    "    let running_max = 0;\n",
    "    \n",
    "    while(left < right) {\n",
    "        running_max = Math.min(height[left], height[right]) * (right - left);\n",
    "        max = Math.max(max, running_max);\n",
    "        if(height[right] < height[left]) {\n",
    "            right--;\n",
    "        }\n",
    "        else {\n",
    "            left++;\n",
    "        }\n",
    "    }\n",
    "    \n",
    "    return max;\n",
    "};"
   ]
  },
  {
   "cell_type": "markdown",
   "metadata": {},
   "source": [
    "### 4. 3Sum (two pointer) - nov 8."
   ]
  },
  {
   "cell_type": "markdown",
   "metadata": {},
   "source": [
    "### 5. Remove Nth Node From End of List (linked list) - nov 8.\n",
    "* essentially, we use a couple of pointers: prev, current, and end\n",
    "* we move end pointer forward a couple of times to have a gap = n and current;\n",
    "* then we have current = head;\n",
    "* from there, we move end, current, and prev forward at the same pace\n",
    "    - similar to how reversing a linked list works\n",
    "    - end = end.next;\n",
    "    - prev = current;\n",
    "    - current = current.next;\n",
    "* we keep doing so until end.next === null\n",
    "    - then we can do prev.next = current.next\n",
    "    - but if n === length of the list, we know that prev is probably null and current is actually still at the head of the list, then we can just return head.next since we disregard the first node in the list."
   ]
  },
  {
   "cell_type": "markdown",
   "metadata": {},
   "source": [
    "### 6. Search in Rotated Sorted Array"
   ]
  },
  {
   "cell_type": "markdown",
   "metadata": {},
   "source": [
    "### 7. Combination Sum"
   ]
  },
  {
   "cell_type": "markdown",
   "metadata": {},
   "source": [
    "### 8. Rotate Image"
   ]
  },
  {
   "cell_type": "markdown",
   "metadata": {},
   "source": [
    "### 9. Group Anagrams"
   ]
  },
  {
   "cell_type": "markdown",
   "metadata": {},
   "source": [
    "### 10. Spiral Matrix"
   ]
  },
  {
   "cell_type": "markdown",
   "metadata": {},
   "source": [
    "### 11. Jump Game"
   ]
  },
  {
   "cell_type": "markdown",
   "metadata": {},
   "source": [
    "### 12. Merge Intervals"
   ]
  },
  {
   "cell_type": "markdown",
   "metadata": {},
   "source": [
    "### 13. Insert Interval"
   ]
  },
  {
   "cell_type": "markdown",
   "metadata": {},
   "source": [
    "### 14. Unique Paths"
   ]
  },
  {
   "cell_type": "markdown",
   "metadata": {},
   "source": [
    "### 15. Set Matrix Zeroes"
   ]
  },
  {
   "cell_type": "markdown",
   "metadata": {},
   "source": [
    "### 17. Word Search"
   ]
  },
  {
   "cell_type": "markdown",
   "metadata": {},
   "source": [
    "### 18. Decode Ways"
   ]
  },
  {
   "cell_type": "markdown",
   "metadata": {},
   "source": [
    "### 19. Validate Binary Search Tree"
   ]
  },
  {
   "cell_type": "markdown",
   "metadata": {},
   "source": [
    "### 20. Binary Tree Level Order Traversal"
   ]
  },
  {
   "cell_type": "markdown",
   "metadata": {},
   "source": [
    "### 21. Construct Binary Tree from Preorder and Inorder Traversal"
   ]
  },
  {
   "cell_type": "markdown",
   "metadata": {},
   "source": [
    "### 22. Clone Graph"
   ]
  },
  {
   "cell_type": "markdown",
   "metadata": {},
   "source": [
    "### 23. Word Break"
   ]
  },
  {
   "cell_type": "markdown",
   "metadata": {},
   "source": [
    "### 24. Reorder List"
   ]
  },
  {
   "cell_type": "markdown",
   "metadata": {},
   "source": [
    "### 25. Maximum Product Subarray"
   ]
  },
  {
   "cell_type": "markdown",
   "metadata": {},
   "source": [
    "### 26. Find Minimum in Rotated Sorted Array"
   ]
  },
  {
   "cell_type": "markdown",
   "metadata": {},
   "source": [
    "### 27. Number of Islands"
   ]
  },
  {
   "cell_type": "markdown",
   "metadata": {},
   "source": [
    "### 28. Course Schedule"
   ]
  },
  {
   "cell_type": "markdown",
   "metadata": {},
   "source": [
    "### 29. Implement Trie (Prefix Tree)"
   ]
  },
  {
   "cell_type": "markdown",
   "metadata": {},
   "source": [
    "### 30. Design Add and Search Words Data Structure"
   ]
  },
  {
   "cell_type": "markdown",
   "metadata": {},
   "source": [
    "### 31. House Robber II"
   ]
  },
  {
   "cell_type": "markdown",
   "metadata": {},
   "source": [
    "### 32. Kth Smallest Element in a BST"
   ]
  },
  {
   "cell_type": "markdown",
   "metadata": {},
   "source": [
    "### 33. Lowest Common Ancestor of a Binary Tree"
   ]
  },
  {
   "cell_type": "markdown",
   "metadata": {},
   "source": [
    "### 34. Product of Array Except Self"
   ]
  },
  {
   "cell_type": "markdown",
   "metadata": {},
   "source": [
    "### 35. Longest Increasing Subsequence"
   ]
  },
  {
   "cell_type": "markdown",
   "metadata": {},
   "source": [
    "### 36. Coin Change"
   ]
  },
  {
   "cell_type": "markdown",
   "metadata": {},
   "source": [
    "### 37. Counting Bits"
   ]
  },
  {
   "cell_type": "markdown",
   "metadata": {},
   "source": [
    "### 38. Top K Frequent Elements"
   ]
  },
  {
   "cell_type": "markdown",
   "metadata": {},
   "source": [
    "### 39. Sum of Two Integers"
   ]
  },
  {
   "cell_type": "markdown",
   "metadata": {},
   "source": [
    "### 40. Pacific Atlantic Water Flow"
   ]
  },
  {
   "cell_type": "markdown",
   "metadata": {},
   "source": [
    "### 41. Longest Repeating Character Replacement"
   ]
  },
  {
   "cell_type": "markdown",
   "metadata": {},
   "source": [
    "### 42. Non-overlapping Intervals"
   ]
  },
  {
   "cell_type": "markdown",
   "metadata": {},
   "source": [
    "### 43. Serialize and Deserialize BST"
   ]
  },
  {
   "cell_type": "markdown",
   "metadata": {},
   "source": [
    "### 44. Palindromic Substrings"
   ]
  },
  {
   "cell_type": "markdown",
   "metadata": {},
   "source": [
    "### 45. Longest Common Subsequence"
   ]
  },
  {
   "cell_type": "markdown",
   "metadata": {},
   "source": [
    "# Hard Problems"
   ]
  },
  {
   "cell_type": "markdown",
   "metadata": {},
   "source": [
    "### 1. Merge k Sorted Lists"
   ]
  },
  {
   "cell_type": "markdown",
   "metadata": {},
   "source": [
    "### 2. Minimum Window Substring"
   ]
  },
  {
   "cell_type": "markdown",
   "metadata": {},
   "source": [
    "### 3. Binary Tree Maximum Path Sum"
   ]
  },
  {
   "cell_type": "markdown",
   "metadata": {},
   "source": [
    "### 4. Longest Consecutive Sequence"
   ]
  },
  {
   "cell_type": "markdown",
   "metadata": {},
   "source": [
    "### 5. Word Search II"
   ]
  },
  {
   "cell_type": "markdown",
   "metadata": {},
   "source": [
    "### 6. Find Median from Data Stream"
   ]
  }
 ],
 "metadata": {
  "kernelspec": {
   "display_name": "Javascript (Node.js)",
   "language": "javascript",
   "name": "javascript"
  },
  "language_info": {
   "file_extension": ".js",
   "mimetype": "application/javascript",
   "name": "javascript",
   "version": "13.12.0"
  }
 },
 "nbformat": 4,
 "nbformat_minor": 2
}
