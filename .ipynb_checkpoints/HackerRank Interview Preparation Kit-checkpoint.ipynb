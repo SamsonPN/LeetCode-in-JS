{
 "cells": [
  {
   "cell_type": "markdown",
   "metadata": {},
   "source": [
    "# Table of Contents:\n",
    "\n",
    " I.  [Arrays](#arrays)\n",
    " \n",
    " II. [Dictionaries and Hashmaps](#dicts)"
   ]
  },
  {
   "cell_type": "markdown",
   "metadata": {},
   "source": [
    "<a class=\"anchor\" id=\"arrays\"></a>\n",
    "\n",
    "## Arrays"
   ]
  },
  {
   "cell_type": "markdown",
   "metadata": {},
   "source": [
    "<a class=\"anchor\" id=\"dicts\"></a>\n",
    "# Dictionaries and Hashmaps"
   ]
  },
  {
   "cell_type": "markdown",
   "metadata": {},
   "source": [
    "## Sherlock and Anagrams (Medium):\n",
    "\n",
    "* https://www.hackerrank.com/challenges/sherlock-and-anagrams/problem?h_l=interview&playlist_slugs%5B%5D=interview-preparation-kit&playlist_slugs%5B%5D=dictionaries-hashmaps"
   ]
  },
  {
   "cell_type": "code",
   "execution_count": 1,
   "metadata": {},
   "outputs": [],
   "source": [
    "// Complete the sherlockAndAnagrams function below.\n",
    "/**\n",
    " * 1. generate all subsets and push them into the subsets array. sorting them first will yield a better time complexity b/c checking them manually would be O(n^2) instead of just having O(nlogn) preprocessing\n",
    " * 2. for every subset, check whether every other subset is equal to it. since it is sorted, this is an O(n) check but there are going to be O(2^n) subsets so this would be an O( (2^n) ^ 2)\n",
    " */\n",
    "function sherlockAndAnagrams(s) {\n",
    "    let subsets = [];\n",
    "    let pairs = 0;\n",
    "    \n",
    "    for(let i = 0; i < s.length; i++) {\n",
    "        for(let j = i + 1; j <= s.length; j++) {\n",
    "            let set = s.slice(i, j).split(\"\").sort().join(\"\");\n",
    "            subsets.push(set);\n",
    "        }\n",
    "    }\n",
    "    \n",
    "    for(let i = 0; i < subsets.length - 1; i++) {\n",
    "        for(let j = i + 1; j < subsets.length; j++) {\n",
    "            if(subsets[i] === subsets[j]) pairs++;\n",
    "        }\n",
    "    }\n",
    "    return pairs;\n",
    "}\n"
   ]
  },
  {
   "cell_type": "markdown",
   "metadata": {},
   "source": [
    "## Count Triplets (Medium):\n",
    "\n",
    "* https://www.hackerrank.com/challenges/count-triplets-1/problem?h_l=interview&playlist_slugs%5B%5D=interview-preparation-kit&playlist_slugs%5B%5D=dictionaries-hashmaps"
   ]
  },
  {
   "cell_type": "code",
   "execution_count": 2,
   "metadata": {},
   "outputs": [],
   "source": [
    "// Complete the countTriplets function below.\n",
    "function countTriplets(arr, r) {\n",
    "    if (arr.length < 3) return 0;\n",
    "    let triplets = 0;\n",
    "    let occ = {};\n",
    "    let potential = {};\n",
    "    \n",
    "    for (let i = 0; i < arr.length; i++) {\n",
    "        let current_val = arr[i];\n",
    "        let ratio1 = current_val / r;\n",
    "        let ratio2 = ratio1 / r;\n",
    "        let current_trip = `${ratio2}${ratio1}`;\n",
    "        \n",
    "        if (potential[current_trip]) triplets += potential[current_trip];\n",
    "        \n",
    "        // if there is an occurrence of (current_val / r)\n",
    "        // we add it to the potential triplets table for later\n",
    "        // so if we have [1,2,1,2,4] and at i = 1\n",
    "        // occ[1] = 1, trip = `1,2`\n",
    "        // potential[trip] = 1;\n",
    "        if (occ[ratio1]) {\n",
    "            let trip = `${ratio1}${current_val}`;\n",
    "            if (potential[trip] === undefined) potential[trip] = 0;\n",
    "            potential[trip] += occ[ratio1];\n",
    "        }\n",
    "        \n",
    "        // increments # of occ of current_val by 1\n",
    "        // this num is used to determine how many\n",
    "        // potential triplets can be made\n",
    "        // for example: [1,2,1,2,4]\n",
    "        // at i = 3, arr[i] = 2.\n",
    "        // occ = {1: 2, 2 : 1}\n",
    "        // we see that we can make `1,2` twice b/c arr[1] = 2\n",
    "        // we can do 1,2 using 1 @ i = 0 and 1,2 using 1 @ i = 2\n",
    "        if (occ[current_val] === undefined) occ[current_val] = 0;\n",
    "        occ[current_val]++;\n",
    "        \n",
    "    }\n",
    "    return triplets;\n",
    "}"
   ]
  },
  {
   "cell_type": "markdown",
   "metadata": {},
   "source": [
    "## Frequency Queries (Medium):\n",
    "\n",
    "* https://www.hackerrank.com/challenges/frequency-queries/problem?h_l=interview&playlist_slugs%5B%5D=interview-preparation-kit&playlist_slugs%5B%5D=dictionaries-hashmaps"
   ]
  },
  {
   "cell_type": "code",
   "execution_count": 3,
   "metadata": {},
   "outputs": [],
   "source": [
    "// Complete the freqQuery function below.\n",
    "function freqQuery(queries) {\n",
    "    let occ = {};\n",
    "    let freq = {};\n",
    "    let res = [];\n",
    "    \n",
    "    queries.forEach(query => {\n",
    "        let [operation, data] = query;\n",
    "        \n",
    "        switch(operation) {\n",
    "            case 1:\n",
    "                if ( !occ[data] ) occ[data] = 0;\n",
    "                if ( freq[occ[data]] ) freq[occ[data]]--;\n",
    "                occ[data]++;\n",
    "                \n",
    "                // update freq\n",
    "                if ( !freq[occ[data]] ) freq[occ[data]] = 0;\n",
    "                freq[occ[data]]++;\n",
    "                break;\n",
    "            case 2:\n",
    "                if (occ[data]) {\n",
    "                    freq[occ[data]]--;\n",
    "                    occ[data]--;\n",
    "                    if ( !freq[occ[data]] ) freq[occ[data]] = 0;\n",
    "                    freq[occ[data]]++;\n",
    "                }\n",
    "                break;\n",
    "            case 3:\n",
    "                res.push(freq[data] ? 1 : 0);\n",
    "                break;\n",
    "        }\n",
    "    })\n",
    "    \n",
    "    return res;\n",
    "}"
   ]
  },
  {
   "cell_type": "code",
   "execution_count": null,
   "metadata": {},
   "outputs": [],
   "source": []
  }
 ],
 "metadata": {
  "kernelspec": {
   "display_name": "Javascript (Node.js)",
   "language": "javascript",
   "name": "javascript"
  },
  "language_info": {
   "file_extension": ".js",
   "mimetype": "application/javascript",
   "name": "javascript",
   "version": "13.12.0"
  }
 },
 "nbformat": 4,
 "nbformat_minor": 2
}
